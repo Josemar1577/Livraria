{
  "nbformat": 4,
  "nbformat_minor": 0,
  "metadata": {
    "colab": {
      "name": "aula Python.ipynb",
      "provenance": [],
      "collapsed_sections": [
        "y1oc3-F_Gjf9"
      ],
      "authorship_tag": "ABX9TyN4UsnPTQ7SKRVGNsmxDp6p",
      "include_colab_link": true
    },
    "kernelspec": {
      "name": "python3",
      "display_name": "Python 3"
    },
    "language_info": {
      "name": "python"
    }
  },
  "cells": [
    {
      "cell_type": "markdown",
      "metadata": {
        "id": "view-in-github",
        "colab_type": "text"
      },
      "source": [
        "<a href=\"https://colab.research.google.com/github/Josemar1577/Livraria/blob/master/aula_Python.ipynb\" target=\"_parent\"><img src=\"https://colab.research.google.com/assets/colab-badge.svg\" alt=\"Open In Colab\"/></a>"
      ]
    },
    {
      "cell_type": "code",
      "metadata": {
        "colab": {
          "base_uri": "https://localhost:8080/"
        },
        "id": "bpiO-d7skqSx",
        "outputId": "fa68ea1a-7a04-4257-e6df-2f1e95f86951"
      },
      "source": [
        "def print_alpha(abc,  num):\n",
        "  for char in abc_list:\n",
        "    for num in num_list:\n",
        "      print"
      ],
      "execution_count": null,
      "outputs": [
        {
          "output_type": "execute_result",
          "data": {
            "text/plain": [
              "True"
            ]
          },
          "metadata": {
            "tags": []
          },
          "execution_count": 1
        }
      ]
    },
    {
      "cell_type": "code",
      "metadata": {
        "colab": {
          "base_uri": "https://localhost:8080/"
        },
        "id": "z4BVAO5EL1LK",
        "outputId": "3cc1779e-66e9-4694-a781-417c3fd47fb2"
      },
      "source": [
        "teste_a = 10\n",
        "teste_b = 4\n",
        "resultado = teste_a^teste_b\n",
        "print(resultado)"
      ],
      "execution_count": null,
      "outputs": [
        {
          "output_type": "stream",
          "text": [
            "14\n"
          ],
          "name": "stdout"
        }
      ]
    },
    {
      "cell_type": "code",
      "metadata": {
        "colab": {
          "base_uri": "https://localhost:8080/"
        },
        "id": "TEc35DsKN05C",
        "outputId": "54764059-b328-4d6d-ade6-92d65681fd0a"
      },
      "source": [
        "ids_instrutores = [ 1,2,3]\n",
        "ids_alunos_py = [10,9]\n",
        "ids_alunos_csharp = [8,10]\n",
        "\n",
        "ids_bylearners = ids_instrutores + ids_alunos_py\n",
        "print(ids_bylearners)"
      ],
      "execution_count": null,
      "outputs": [
        {
          "output_type": "stream",
          "text": [
            "[1, 2, 3, 10, 9]\n"
          ],
          "name": "stdout"
        }
      ]
    },
    {
      "cell_type": "code",
      "metadata": {
        "colab": {
          "base_uri": "https://localhost:8080/"
        },
        "id": "6YUIkfvMpcO8",
        "outputId": "b4d4d374-2648-4756-c238-9b118104b4d5"
      },
      "source": [
        "ids_bylearners += ids_alunos_csharp\n",
        "print(ids_bylearners)"
      ],
      "execution_count": null,
      "outputs": [
        {
          "output_type": "stream",
          "text": [
            "[1, 2, 3, 10, 9, 8, 10]\n"
          ],
          "name": "stdout"
        }
      ]
    },
    {
      "cell_type": "code",
      "metadata": {
        "colab": {
          "base_uri": "https://localhost:8080/"
        },
        "id": "Oe32LIA6prAr",
        "outputId": "0881c054-81ea-4c5f-df58-7f9bb6eb6e76"
      },
      "source": [
        "ids_instrutores = [1,2,3]\n",
        "ids_alunos_py = [10,9]\n",
        "ids_alunos_csharp = [8,10]\n",
        "\n",
        "ids_bylearners = ids_instrutores + ids_alunos_py + ids_alunos_csharp\n",
        "print(ids_bylearners)"
      ],
      "execution_count": null,
      "outputs": [
        {
          "output_type": "stream",
          "text": [
            "[1, 2, 3, 10, 9, 8, 10]\n"
          ],
          "name": "stdout"
        }
      ]
    },
    {
      "cell_type": "code",
      "metadata": {
        "colab": {
          "base_uri": "https://localhost:8080/"
        },
        "id": "Cr-EYNpXprQf",
        "outputId": "0cb0167a-3dfd-4cda-be41-9331f1aa682b"
      },
      "source": [
        "#Funções Nativas para listas\n",
        "#Primeira função: append() => Insere um elemento no final na lista\n",
        "\n",
        "numeros = ['um']\n",
        "numeros.append('dois')\n",
        "numeros.append('tres')\n",
        "numeros.append('quatro')\n",
        "\n",
        "print(numeros)\n"
      ],
      "execution_count": null,
      "outputs": [
        {
          "output_type": "stream",
          "text": [
            "['um', 'dois', 'tres', 'quatro']\n"
          ],
          "name": "stdout"
        }
      ]
    },
    {
      "cell_type": "markdown",
      "metadata": {
        "id": "BtvT3W19tfxG"
      },
      "source": [
        "####Segunda função: index() => Retorna o índice de um determinado **elemento**"
      ]
    },
    {
      "cell_type": "code",
      "metadata": {
        "colab": {
          "base_uri": "https://localhost:8080/"
        },
        "id": "gnRBBRgNtchY",
        "outputId": "47b576c9-7424-4c37-839c-b3eabb3427fc"
      },
      "source": [
        "bylearners = ['Felipe','Alisson','Haynes','Josemar']\n",
        "indice_haynes = bylearners.index('Haynes')\n",
        "\n",
        "print(indice_haynes)\n",
        "print(bylearners.index('Josemar'))"
      ],
      "execution_count": null,
      "outputs": [
        {
          "output_type": "stream",
          "text": [
            "2\n",
            "3\n"
          ],
          "name": "stdout"
        }
      ]
    },
    {
      "cell_type": "code",
      "metadata": {
        "id": "XGW1Px9qtccb",
        "colab": {
          "base_uri": "https://localhost:8080/"
        },
        "outputId": "62d2af2a-5e4a-4f0b-c77b-8d34eb581337"
      },
      "source": [
        "lista = [2,1,4]\n",
        "print(lista)\n",
        "lista.sort()\n",
        "print(lista)"
      ],
      "execution_count": null,
      "outputs": [
        {
          "output_type": "stream",
          "text": [
            "[2, 1, 4]\n",
            "[1, 2, 4]\n"
          ],
          "name": "stdout"
        }
      ]
    },
    {
      "cell_type": "code",
      "metadata": {
        "colab": {
          "base_uri": "https://localhost:8080/"
        },
        "id": "arbjJvCJH0j3",
        "outputId": "a3ab2469-8c49-4819-f49d-ce75f17e3045"
      },
      "source": [
        "lista = [2,1,4]\n",
        "print(sorted(lista))\n"
      ],
      "execution_count": null,
      "outputs": [
        {
          "output_type": "stream",
          "text": [
            "[1, 2, 4]\n"
          ],
          "name": "stdout"
        }
      ]
    },
    {
      "cell_type": "code",
      "metadata": {
        "colab": {
          "base_uri": "https://localhost:8080/"
        },
        "id": "ezdV2UkfJHb3",
        "outputId": "0d0de036-0c9a-489e-8091-9e89e3dac2bd"
      },
      "source": [
        "lista = [2,1,4]\n",
        "print(lista.sort())\n",
        "lista2 = lista.sort()\n",
        "print(lista2)"
      ],
      "execution_count": null,
      "outputs": [
        {
          "output_type": "stream",
          "text": [
            "None\n",
            "None\n"
          ],
          "name": "stdout"
        }
      ]
    },
    {
      "cell_type": "code",
      "metadata": {
        "colab": {
          "base_uri": "https://localhost:8080/"
        },
        "id": "WAgvGt6uKqz6",
        "outputId": "58038f5a-55bd-4aa7-b0ac-7b370f5dc846"
      },
      "source": [
        "lista = ['c','b','a']\n",
        "print(sorted(lista))# Sorted me retorna uma lista já ordenada\n",
        "lista2 = sorted(lista)# Consigo atribuir a lista\n",
        "print(lista2)"
      ],
      "execution_count": null,
      "outputs": [
        {
          "output_type": "stream",
          "text": [
            "['a', 'b', 'c']\n",
            "['a', 'b', 'c']\n"
          ],
          "name": "stdout"
        }
      ]
    },
    {
      "cell_type": "code",
      "metadata": {
        "colab": {
          "base_uri": "https://localhost:8080/"
        },
        "id": "mIX2-3FjNzia",
        "outputId": "b8482d14-382b-4706-bae0-f41859d7b057"
      },
      "source": [
        "lista = [\"c\",'b','a',str(1),str(2)]\n",
        "print(sorted(lista))"
      ],
      "execution_count": null,
      "outputs": [
        {
          "output_type": "stream",
          "text": [
            "['1', '2', 'a', 'b', 'c']\n"
          ],
          "name": "stdout"
        }
      ]
    },
    {
      "cell_type": "code",
      "metadata": {
        "id": "m-WxY8WBxCw0",
        "colab": {
          "base_uri": "https://localhost:8080/",
          "height": 185
        },
        "outputId": "ab24e48d-d6f2-4abc-8a07-9aa3c2576930"
      },
      "source": [
        "ls = ['t','e','s','t','e']\n",
        "print(len(s))"
      ],
      "execution_count": null,
      "outputs": [
        {
          "output_type": "error",
          "ename": "NameError",
          "evalue": "ignored",
          "traceback": [
            "\u001b[0;31m---------------------------------------------------------------------------\u001b[0m",
            "\u001b[0;31mNameError\u001b[0m                                 Traceback (most recent call last)",
            "\u001b[0;32m<ipython-input-24-102dc12702c1>\u001b[0m in \u001b[0;36m<module>\u001b[0;34m()\u001b[0m\n\u001b[1;32m      1\u001b[0m \u001b[0mls\u001b[0m \u001b[0;34m=\u001b[0m \u001b[0;34m[\u001b[0m\u001b[0;34m't'\u001b[0m\u001b[0;34m,\u001b[0m\u001b[0;34m'e'\u001b[0m\u001b[0;34m,\u001b[0m\u001b[0;34m's'\u001b[0m\u001b[0;34m,\u001b[0m\u001b[0;34m't'\u001b[0m\u001b[0;34m,\u001b[0m\u001b[0;34m'e'\u001b[0m\u001b[0;34m]\u001b[0m\u001b[0;34m\u001b[0m\u001b[0;34m\u001b[0m\u001b[0m\n\u001b[0;32m----> 2\u001b[0;31m \u001b[0mprint\u001b[0m\u001b[0;34m(\u001b[0m\u001b[0mlen\u001b[0m\u001b[0;34m(\u001b[0m\u001b[0ms\u001b[0m\u001b[0;34m)\u001b[0m\u001b[0;34m)\u001b[0m\u001b[0;34m\u001b[0m\u001b[0;34m\u001b[0m\u001b[0m\n\u001b[0m",
            "\u001b[0;31mNameError\u001b[0m: name 's' is not defined"
          ]
        }
      ]
    },
    {
      "cell_type": "code",
      "metadata": {
        "id": "_xmY53ryyP8_"
      },
      "source": [
        "ls = ['t','e','s','t','e']\n",
        "print(len(s))"
      ],
      "execution_count": null,
      "outputs": []
    },
    {
      "cell_type": "markdown",
      "metadata": {
        "id": "6wuE6tMsGPp4"
      },
      "source": [
        "##**Manipulação de String**"
      ]
    },
    {
      "cell_type": "code",
      "metadata": {
        "id": "K2C8gpi-zYDM"
      },
      "source": [
        "# Caractere é uma letra só\n",
        "char = 'c'\n",
        "# String é um 'conjunto' de carecteres\n",
        "string_palavra = 'Josemar'\n",
        "string_frase = 'Seja um bylearner'\n",
        "\n",
        "# Vetor (Array) => Sequencia de elementos do mesmo tipo\n",
        "# String é um Vetor (array) de caracteres"
      ],
      "execution_count": null,
      "outputs": []
    },
    {
      "cell_type": "code",
      "metadata": {
        "id": "hlfeVhKb0Ccu"
      },
      "source": [
        "string = \"Bylearn\"\n",
        "#---------0123456\n",
        "\n",
        "print(string[0])\n",
        "print(string[1])\n",
        "print(string[2])\n",
        "print(string[3])\n",
        "print(string[4])\n",
        "print(string[5])\n",
        "print(string[6])\n"
      ],
      "execution_count": null,
      "outputs": []
    },
    {
      "cell_type": "code",
      "metadata": {
        "id": "y5EVKvQ00hFr"
      },
      "source": [
        "string = \"ByLearn\"\n",
        "#---------0123456|7\n",
        "print(string[7]) # Não existe"
      ],
      "execution_count": null,
      "outputs": []
    },
    {
      "cell_type": "markdown",
      "metadata": {
        "id": "M_d7sUwg51x1"
      },
      "source": [
        "**Strings são imutáveis**"
      ]
    },
    {
      "cell_type": "code",
      "metadata": {
        "id": "MfcqhJtn5zop"
      },
      "source": [
        "palavra = 'teste'\n",
        "palavra[2] = 'z'"
      ],
      "execution_count": null,
      "outputs": []
    },
    {
      "cell_type": "markdown",
      "metadata": {
        "id": "xO88hr696KuB"
      },
      "source": [
        "**String podem ser fatiadas, como por exemplo, para mudar o valor de algum índice**\n",
        "\n"
      ]
    },
    {
      "cell_type": "code",
      "metadata": {
        "id": "2zVEAp1m6JPT"
      },
      "source": [
        "nova_palavra = palavra[:2] + 'z' + palavra[3:]\n",
        "nova_palavra"
      ],
      "execution_count": null,
      "outputs": []
    },
    {
      "cell_type": "code",
      "metadata": {
        "id": "zorUH1Jg6sjo"
      },
      "source": [
        "palavra = 'abcdef'\n",
        "print(palavra[-1])\n",
        "print(palavra[-2])\n",
        "print(palavra[:]) #print(palavra)\n"
      ],
      "execution_count": null,
      "outputs": []
    },
    {
      "cell_type": "markdown",
      "metadata": {
        "id": "y1oc3-F_Gjf9"
      },
      "source": [
        "##**Pesquisar em Strings**"
      ]
    },
    {
      "cell_type": "code",
      "metadata": {
        "id": "Wvs6oQDa6-UN"
      },
      "source": [
        "'b' in 'abc'"
      ],
      "execution_count": null,
      "outputs": []
    },
    {
      "cell_type": "code",
      "metadata": {
        "id": "gfwYmIxgCYbw"
      },
      "source": [
        "'d' in 'abc'"
      ],
      "execution_count": null,
      "outputs": []
    },
    {
      "cell_type": "code",
      "metadata": {
        "id": "xMESThXjCYYZ"
      },
      "source": [
        "'b' not in 'abc'"
      ],
      "execution_count": null,
      "outputs": []
    },
    {
      "cell_type": "code",
      "metadata": {
        "id": "H8daW_kDCh2c"
      },
      "source": [
        "'d' not in 'abc'"
      ],
      "execution_count": null,
      "outputs": []
    },
    {
      "cell_type": "code",
      "metadata": {
        "id": "iMYhKqpbCm2O"
      },
      "source": [
        "s = 'teste'\n",
        "print(len(s))"
      ],
      "execution_count": null,
      "outputs": []
    },
    {
      "cell_type": "code",
      "metadata": {
        "id": "aWW8JqzrDdOJ"
      },
      "source": [
        "string = 'Josemar'.lower()\n",
        "string\n"
      ],
      "execution_count": null,
      "outputs": []
    },
    {
      "cell_type": "code",
      "metadata": {
        "id": "OX6yBBFVDpnv"
      },
      "source": [
        "string = 'josemar'.upper()\n",
        "string"
      ],
      "execution_count": null,
      "outputs": []
    },
    {
      "cell_type": "markdown",
      "metadata": {
        "id": "23TMhOEomUsN"
      },
      "source": [
        "**Concatenar Strings (somar)**"
      ]
    },
    {
      "cell_type": "code",
      "metadata": {
        "id": "k0xmUNlDECql"
      },
      "source": [
        "string = 'Jo' + 'se' + 'mar'\n",
        "string\n",
        "\n",
        "print('Jo'+'se'+'mar')"
      ],
      "execution_count": null,
      "outputs": []
    },
    {
      "cell_type": "code",
      "metadata": {
        "id": "w_lGvM2dm8Pk"
      },
      "source": [
        "string = 'Jo'+'Se'.lower()+'Mar'.lower()\n",
        "string"
      ],
      "execution_count": null,
      "outputs": []
    },
    {
      "cell_type": "markdown",
      "metadata": {
        "id": "ZTKXZ1SfnbiE"
      },
      "source": [
        "**Checar se todos os caracteres são letras**"
      ]
    },
    {
      "cell_type": "code",
      "metadata": {
        "id": "voCNp25QncJI"
      },
      "source": [
        "print(\"abc\".isalpha())\n",
        "print(\"1fg\".isalpha())\n",
        "print(\"123\".isalpha())\n",
        "print(\"+=&$/;\".isalpha())"
      ],
      "execution_count": null,
      "outputs": []
    },
    {
      "cell_type": "markdown",
      "metadata": {
        "id": "6mhlKYQkoFEo"
      },
      "source": [
        "**Remover espaços em branco tanto inicio quanto no fim**"
      ]
    },
    {
      "cell_type": "code",
      "metadata": {
        "id": "Ti3vxI2NoJCC"
      },
      "source": [
        "\"  sobrando espaços  \".strip()"
      ],
      "execution_count": null,
      "outputs": []
    },
    {
      "cell_type": "code",
      "metadata": {
        "id": "ZqHWXUrjoVyC"
      },
      "source": [
        "'    sobrando   espaços    '.strip()"
      ],
      "execution_count": null,
      "outputs": []
    },
    {
      "cell_type": "markdown",
      "metadata": {
        "id": "eaXybIC0omtZ"
      },
      "source": [
        "**Juntar os itens da string através de um delimitador**"
      ]
    },
    {
      "cell_type": "code",
      "metadata": {
        "id": "YRxtPtGAold7"
      },
      "source": [
        "\",\".join(\"abc\")# Aqui faz sentido"
      ],
      "execution_count": null,
      "outputs": []
    },
    {
      "cell_type": "code",
      "metadata": {
        "id": "L4ohPgbko2HN"
      },
      "source": [
        "\" , \".join(\"abc\")# Aqui faz sentido"
      ],
      "execution_count": null,
      "outputs": []
    },
    {
      "cell_type": "code",
      "metadata": {
        "id": "No96whHIpBxE"
      },
      "source": [
        "'/ letra: '.join(\"abc\")# Não faz sentido"
      ],
      "execution_count": null,
      "outputs": []
    },
    {
      "cell_type": "markdown",
      "metadata": {
        "id": "x9keDmOCpX8m"
      },
      "source": [
        "**Separar uma string através de um delimitador**\n"
      ]
    },
    {
      "cell_type": "code",
      "metadata": {
        "id": "3uhYwJlNpZ_e"
      },
      "source": [
        "s = \"n o m e\"\n",
        "s.split()"
      ],
      "execution_count": null,
      "outputs": []
    },
    {
      "cell_type": "code",
      "metadata": {
        "id": "UShdsCCtpxnb"
      },
      "source": [
        "s = \"n,o,m,e\"\n",
        "s.split(\",\")"
      ],
      "execution_count": null,
      "outputs": []
    },
    {
      "cell_type": "code",
      "metadata": {
        "id": "Y0Hvskhbrl-N"
      },
      "source": [
        "s = 'nome'\n",
        "s.split()"
      ],
      "execution_count": null,
      "outputs": []
    },
    {
      "cell_type": "markdown",
      "metadata": {
        "id": "JVTxOM_NqSbg"
      },
      "source": [
        "**##Listas dentro de listas**\n",
        "Podemos criar quantas listas quisermos dentro de outras listas, bastando o elemento ser também uma lista ( Utilizando as barras [] )"
      ]
    },
    {
      "cell_type": "code",
      "metadata": {
        "id": "0OU1aC1bqN_3"
      },
      "source": [
        "lista_dentro_de_lista = [[1,2],[3,4]]\n"
      ],
      "execution_count": null,
      "outputs": []
    },
    {
      "cell_type": "code",
      "metadata": {
        "id": "sMVtXppOsNLK"
      },
      "source": [
        "lista_dentro_de_lista[0]"
      ],
      "execution_count": null,
      "outputs": []
    },
    {
      "cell_type": "code",
      "metadata": {
        "id": "XZG8jPb6sdum"
      },
      "source": [
        "lista_dentro_de_lista[0][0]"
      ],
      "execution_count": null,
      "outputs": []
    },
    {
      "cell_type": "code",
      "metadata": {
        "id": "AEiUoyWEsmBh"
      },
      "source": [
        "lista_dentro_de_lista[1][0]"
      ],
      "execution_count": null,
      "outputs": []
    },
    {
      "cell_type": "markdown",
      "metadata": {
        "id": "XJzi5Axzs6eD"
      },
      "source": [
        "#**Tipo Booleano de dado**\n",
        "\n",
        "\n",
        "\"Na computação tudo é zero ou um\" - Qualquer um sobre computação\n",
        "Tipo de dado mais simples é o tipo booleano => Tipo Lógico.\n",
        "Booleano aceitam apenas dois valores (True/False) (1/0) (Sim/Não) Em Eletronica usamos Lâmpada => Acesa (Verdadeiro/1/Sim) Apagada (Falso/0/Não)"
      ]
    },
    {
      "cell_type": "code",
      "metadata": {
        "id": "oz5MaQOxs5tz"
      },
      "source": [
        "boolean = True\n",
        "print(type(boolean))"
      ],
      "execution_count": null,
      "outputs": []
    },
    {
      "cell_type": "code",
      "metadata": {
        "id": "Il-pbyCAwjnk"
      },
      "source": [
        "boolean"
      ],
      "execution_count": null,
      "outputs": []
    },
    {
      "cell_type": "code",
      "metadata": {
        "id": "vrEaTuSHwnXN"
      },
      "source": [
        "boolean = False\n",
        "print(type(boolean))\n",
        "boolean"
      ],
      "execution_count": null,
      "outputs": []
    },
    {
      "cell_type": "code",
      "metadata": {
        "id": "z0AGWsimw0pe"
      },
      "source": [
        "booleano = True\n",
        "booleano = 0  # No Python booleanos são apenas True ou False\n",
        "print(type(booleano))"
      ],
      "execution_count": null,
      "outputs": []
    },
    {
      "cell_type": "code",
      "metadata": {
        "id": "D1ItLY6SxJVW"
      },
      "source": [
        "bool(0)"
      ],
      "execution_count": null,
      "outputs": []
    },
    {
      "cell_type": "code",
      "metadata": {
        "id": "cCo44KQZxMTs"
      },
      "source": [
        "bool(1)"
      ],
      "execution_count": null,
      "outputs": []
    },
    {
      "cell_type": "markdown",
      "metadata": {
        "id": "-e2xGLzaeHGI"
      },
      "source": [
        "#**If e Else**\n",
        "O IF ele é um estrutura de condição => Avalia se uma expressão ou condição é verdadeira.\n",
        "Se for (verdadeira) ele executa aquela execução propria dele.\n",
        "Caso não for, ele executa a execução do else (caso exista)."
      ]
    },
    {
      "cell_type": "code",
      "metadata": {
        "id": "16obSmEgcg--"
      },
      "source": [
        "logica = True\n",
        "if True:# Não estou trabalhando com a variável\n",
        "  print(\"A lógica é verdadeira\")"
      ],
      "execution_count": null,
      "outputs": []
    },
    {
      "cell_type": "code",
      "metadata": {
        "id": "d0fwF9oXeaW-"
      },
      "source": [
        "logica = False\n",
        "# Sempre que tiver True executa\n",
        "if True:# Não estou trabalhando com a variável\n",
        "  print(\"A lógica é verdadeira\")"
      ],
      "execution_count": null,
      "outputs": []
    },
    {
      "cell_type": "code",
      "metadata": {
        "id": "1ONxE9R6e1uP"
      },
      "source": [
        "logica = True\n",
        "# Sempre que tiver False não executa\n",
        "if False:# Não estou trabalhando com a variável\n",
        "  print(\"A lógica é verdadeira\")"
      ],
      "execution_count": null,
      "outputs": []
    },
    {
      "cell_type": "markdown",
      "metadata": {
        "id": "NwmCoZPTfMsi"
      },
      "source": [
        "Devemos sempre colocar a condição do IF sendo a variável ou expressão que queremos garantir a veracidade"
      ]
    },
    {
      "cell_type": "code",
      "metadata": {
        "id": "f7EL-llOfJYR"
      },
      "source": [
        "logica = False\n",
        "\n",
        "if logica:# Agora estou trabalhando com a variável\n",
        "  print(\"A lógica é verdadeira\")"
      ],
      "execution_count": null,
      "outputs": []
    },
    {
      "cell_type": "code",
      "metadata": {
        "id": "0sLqTO6Cfhxx"
      },
      "source": [
        "logica = True\n",
        "\n",
        "if logica:\n",
        "  print(\"A lógica é verdadeira\")"
      ],
      "execution_count": null,
      "outputs": []
    },
    {
      "cell_type": "markdown",
      "metadata": {
        "id": "vsJ1KW4AftGK"
      },
      "source": [
        "**Usando o else**"
      ]
    },
    {
      "cell_type": "code",
      "metadata": {
        "id": "QCKhuCrMfxsZ"
      },
      "source": [
        "logica = True\n",
        "if logica:\n",
        "  print(\"A lógica é verdadeira\")\n",
        "else:\n",
        "  print(\"A lógica não é verdadeira\")"
      ],
      "execution_count": null,
      "outputs": []
    },
    {
      "cell_type": "markdown",
      "metadata": {
        "id": "9ocblwUsgK1F"
      },
      "source": [
        "**Cuidado: As execuções de If/Else devem estar dentro do seu escopo\n",
        "\n"
      ]
    },
    {
      "cell_type": "code",
      "metadata": {
        "id": "bGzbOKBIgMEN"
      },
      "source": [
        "logica = True\n",
        "if logica:\n",
        "  print(\"A lógica é verdadeira\")\n",
        "\n",
        "\n",
        "print(\"A lógica não é verdadeira\")"
      ],
      "execution_count": null,
      "outputs": []
    },
    {
      "cell_type": "markdown",
      "metadata": {
        "id": "1uN7hz6dhhTQ"
      },
      "source": [
        "#**If e Else para diferente de True/False (Booleanos)**"
      ]
    },
    {
      "cell_type": "code",
      "metadata": {
        "id": "IK2BkDbRkLQi"
      },
      "source": [
        "def main():\n",
        "    nota1 = int(input(\"Digite sua primeira nota: \"))\n",
        "    nota2 = int(input(\"Digite sua segunda nota: \"))\n",
        "    media = (nota1 + nota2) / 2\n",
        "\n",
        "# Sendo a media da escola 6\n",
        "# Para passar de ano preciso ter uma nota maior ou igual a 6\n",
        "    if media >= 6:\n",
        "      print(\"Você passou\")\n",
        "    else:\n",
        "      print(\"Você não passou\")\n",
        "\n",
        "    print(media)\n",
        "\n",
        "main()"
      ],
      "execution_count": null,
      "outputs": []
    },
    {
      "cell_type": "code",
      "metadata": {
        "id": "o17os_L7lUMf"
      },
      "source": [
        "def main():\n",
        "    nota1 = int(input(\"Digite sua primeira nota: \"))\n",
        "    nota2 = int(input(\"Digite sua segunda nota: \"))\n",
        "    media = (nota1 + nota2) / 2\n",
        "\n",
        "# Sendo a media da escola 6\n",
        "# Para passar de ano preciso ter uma nota maior ou igual a 6\n",
        "    if media < 6:\n",
        "      print(\"Você não passou\")\n",
        "    else:\n",
        "      print(\"Você passou\")\n",
        "\n",
        "    print(media)\n",
        "\n",
        "main()"
      ],
      "execution_count": null,
      "outputs": []
    },
    {
      "cell_type": "markdown",
      "metadata": {
        "id": "KFJ5uiVtlvrh"
      },
      "source": [
        "#**Desafio 4.1 - Número mágico**\n",
        "\n",
        "Um mágico pede para alguém da plateia pensar num número de um a cinco.\n",
        "Você escolhe (define) o numero.\n",
        "Você pedirá para o mágico escolher o número que você pensou (receber input).\n",
        "\n",
        "Se o valor do mágico for menor que o seu número você irá dizer para o mágico aumentar o valor do chute.\n",
        "Se o valor do mágico for maior que o seu número você irá dizer para o mágico diminuir o valor do chute.\n",
        "Se o valor do mágico for igual ao seu número você irá dizer para o mágico que ele acertou."
      ]
    },
    {
      "cell_type": "code",
      "metadata": {
        "id": "dSuf05lhlu8s"
      },
      "source": [
        "def main():\n",
        "  numero_escolhido = 1\n",
        "  numero_magico = int(input(\"Valor Escolhido pelo Magico: \"))\n",
        "\n",
        "  if numero_magico > numero_escolhido:\n",
        "    print(\"Diminua o Valor\")\n",
        "  elif numero_magico < numero_escolhido:\n",
        "    print(\"Aumente o Valor\")\n",
        "  else:\n",
        "    print(\"Você acertou\")\n",
        "\n",
        "\n",
        "\n",
        "main()"
      ],
      "execution_count": null,
      "outputs": []
    },
    {
      "cell_type": "markdown",
      "metadata": {
        "id": "1dTqbotBrt2k"
      },
      "source": [
        "#**\"Checagens\" (Operadores lógicos)**\n",
        "**>:** Maior que\n",
        "\n",
        "**<:** Menor que\n",
        "\n",
        "**>=:** Maior ou igual a\n",
        "\n",
        "**<=:** Menor ou igual a\n",
        "\n",
        "**==:** Comparação de igualdade (igual a)\n",
        "\n",
        "**!=:** Diferende a"
      ]
    },
    {
      "cell_type": "code",
      "metadata": {
        "id": "aiXuPNiesJiF"
      },
      "source": [
        "def main():\n",
        "  numero1 = 5\n",
        "  numero2 = 5\n",
        "\n",
        "  if numero1 != numero2:\n",
        "    print(\"Os números são diferentes!!\")\n",
        "  else:\n",
        "    print(\"Os números são iguais\")\n",
        "  \n",
        "main()"
      ],
      "execution_count": null,
      "outputs": []
    },
    {
      "cell_type": "markdown",
      "metadata": {
        "id": "wNgX2wyzkwGc"
      },
      "source": [
        "Apenas **uma** execução pode ser feita por bloco de condição (apenas o primeiro IF verdadeiro)"
      ]
    },
    {
      "cell_type": "code",
      "metadata": {
        "id": "t94sb2rEkykj"
      },
      "source": [
        "def main():\n",
        "  char1 = 'f'\n",
        "  char2 = 'b'\n",
        "\n",
        "  #inicio do Bloco\n",
        "  if char1 == 'f':\n",
        "    print(\"Felipe\")\n",
        "  elif char2 == 'b':\n",
        "    print(\"Josemar\")\n",
        "  else:\n",
        "    print(\"Python\") \n",
        "    # Final do Bloco \n",
        "\n",
        "\n",
        "\n",
        "\n",
        "main()"
      ],
      "execution_count": null,
      "outputs": []
    },
    {
      "cell_type": "markdown",
      "metadata": {
        "id": "x2HvWDTFmEog"
      },
      "source": [
        "**Podemos ter um if que precise que todas as condições sejam verdadeiras (mais de uma condição):**\n",
        "\n",
        "Para isso nós usamos o and (e em inglês)\n",
        "\n",
        "**Podemos ter um if que precise que apenas uma das condições seja verdadeira (mais de uma condição):**\n",
        "\n",
        "Para isso nós usamos o or (ou em inglês)"
      ]
    },
    {
      "cell_type": "code",
      "metadata": {
        "id": "ThNV5by6mC2J"
      },
      "source": [
        "def main():\n",
        "  char1 = 'f'\n",
        "  char2 = 'b'\n",
        "\n",
        "  if (char1 == 'f') and (char2 == 'b'):\n",
        "    print(\"Felipe & ByLearn\")\n",
        "  elif char1 == 'f':\n",
        "    print(\"Felipe\")\n",
        "  else:\n",
        "    print(\"Python\")\n",
        "\n",
        "\n",
        "main()"
      ],
      "execution_count": null,
      "outputs": []
    },
    {
      "cell_type": "code",
      "metadata": {
        "id": "YwVmZ-gYnnNG"
      },
      "source": [
        "def main():\n",
        "  numero1 = 2\n",
        "  numero2 = 3\n",
        "  numero3 = 5\n",
        "\n",
        "  numero_escolhido = 3\n",
        "\n",
        "  if (numero1 == 3) or (numero2 == 3) or (numero3 == 3):\n",
        "    print(\"Você acertou em pelo menos um dos chutes\")\n",
        "  else:\n",
        "    print(\"Você errou todos os Chutes\")\n",
        "\n",
        "main()"
      ],
      "execution_count": null,
      "outputs": []
    },
    {
      "cell_type": "markdown",
      "metadata": {
        "id": "Gk46Tqq7p79W"
      },
      "source": [
        "**Exemplo lógico**"
      ]
    },
    {
      "cell_type": "code",
      "metadata": {
        "id": "ChlA0Klop9ug"
      },
      "source": [
        "def main():\n",
        "  cond1 = True\n",
        "  cond2 = True\n",
        "  cond3 = False\n",
        "\n",
        "  if cond1 and cond2 and cond3:\n",
        "    print(\"Todas são verdadeiras\")\n",
        "  elif cond1 or cond2 or cond3:\n",
        "    print(\"Pelo menos uma delas é verdadeira\")\n",
        "  else:\n",
        "    print(\"Ambas são falsas\")\n",
        "  \n",
        "main()"
      ],
      "execution_count": null,
      "outputs": []
    },
    {
      "cell_type": "code",
      "metadata": {
        "id": "6yLqEzWprHka"
      },
      "source": [
        "def main():\n",
        "  cond_obrigatoria = True\n",
        "  cond_opcional1 = False\n",
        "  cond_opcional2 = True\n",
        "\n",
        "  if cond_obrigatoria and cond_opcional1 and cond_opcional2:\n",
        "    print(\"Todas são verdadeiras\")\n",
        "  elif cond_obrigatoria and (cond_opcional1 or cond_opcional2):\n",
        "    print(\"A primeira é verdadeira. Já a segunda e a terceira, apenas uma delas é verdadeira\")\n",
        "  elif cond_opcional1 and cond_opcional2:\n",
        "    print(\"A Obrigatória é falsa, mas pelo menos uma das opcionais é verdadeira\")\n",
        "  else:\n",
        "    print(\"Ambas são falsas\")\n",
        " \n",
        "\n",
        "\n",
        "\n",
        "main()"
      ],
      "execution_count": null,
      "outputs": []
    },
    {
      "cell_type": "markdown",
      "metadata": {
        "id": "UNWJSx__sjIa"
      },
      "source": [
        "**Laços de Repetição**\n",
        "\n",
        "**Necessidade de uso**\n",
        "\n",
        "Precisamos interagir com vários elementos de uma lista ou com dados de tamanho dinâmico"
      ]
    },
    {
      "cell_type": "code",
      "metadata": {
        "id": "OjpHOaCGswx8"
      },
      "source": [
        "# Lista de todos os alunos\n",
        "alunos = ['Felipe','Haynes','Alisson']\n",
        "\n",
        "alunos.append('Josemar')\n",
        "\n",
        "if(len(alunos) == 0):\n",
        "    print(\"Não tem nenhum aluno\")\n",
        "elif(len(alunos) == 1):\n",
        "    print(alunos[0])\n",
        "elif(len(alunos) == 2):\n",
        "    print(alunos[0])\n",
        "    print(alunos[1])\n",
        "elif(len(alunos) == 3):\n",
        "    print(alunos[0])\n",
        "    print(alunos[1])\n",
        "    print(alunos[2])\n",
        "elif(len(alunos) == 4):\n",
        "    print(alunos[0])\n",
        "    print(alunos[1])\n",
        "    print(alunos[2])\n",
        "    print(alunos[3])"
      ],
      "execution_count": null,
      "outputs": []
    },
    {
      "cell_type": "markdown",
      "metadata": {
        "id": "OysAyXYNtJkn"
      },
      "source": [
        "**Para Laços de Repetição podemos utilizar o comando FOR**\n",
        "\n",
        "**Ele é utilizado da seguinte maneira: 'For Iterando in Lista'**"
      ]
    },
    {
      "cell_type": "code",
      "metadata": {
        "id": "InDZElcNtB-q"
      },
      "source": [
        "# Lista de todos os alunos\n",
        "alunos = ['Felipe', 'Haynes', 'Alisson']\n",
        "alunos.append('Josemar')\n",
        "\n",
        "# Para todos os alunos => vou printar o nome\n",
        "for aluno in alunos:\n",
        "  print(aluno)"
      ],
      "execution_count": null,
      "outputs": []
    },
    {
      "cell_type": "markdown",
      "metadata": {
        "id": "-7fFBucNuPnb"
      },
      "source": [
        "#**Desafio 5.1**\n",
        "\n",
        "Criar uma lista de notas e adicionar entre 5 e 10 notas a seu critério.\n",
        "Por fim, printar todas as notas desta lista através de um laço for"
      ]
    },
    {
      "cell_type": "code",
      "metadata": {
        "id": "gbwC4bNCuPL_"
      },
      "source": [
        "notas = []\n",
        "notas.append(1)\n",
        "notas.append(2)\n",
        "notas.append(3)\n",
        "notas.append(4)\n",
        "notas.append(5)\n",
        "notas.append(6)\n",
        "notas.append(7)\n",
        "\n",
        "for nota in notas:\n",
        "  print(nota)\n",
        "\n"
      ],
      "execution_count": null,
      "outputs": []
    },
    {
      "cell_type": "code",
      "metadata": {
        "id": "di-b_SJJwNxP"
      },
      "source": [
        "notas=[]\n",
        "\n",
        "for i in range(4,11):\n",
        "  notas.append(i)\n",
        "\n",
        "for nota in notas:\n",
        "  print(nota)"
      ],
      "execution_count": null,
      "outputs": []
    },
    {
      "cell_type": "markdown",
      "metadata": {
        "id": "abtgzWaM-CgT"
      },
      "source": [
        "#**Laços de Repetição**\n",
        "\n",
        "##**Necessidade de uso**\n",
        "Precisamos interagir com vários elementos de uma lista ou com dados de tamanho dinâmico\n",
        "\n",
        "\n",
        "Ex: Em vez de fazermos igual abaixo, um caso para cada quantidade de dados, nós podemos uma vez só para qualquer quantidade"
      ]
    },
    {
      "cell_type": "code",
      "metadata": {
        "id": "9MhGcefe-QSX"
      },
      "source": [
        "# Lista de todos os alunos\n",
        "alunos = ['Felipe','Haynes','Alisson']\n",
        "\n",
        "alunos.append('Josemar')\n",
        "if(len(alunos)==0):\n",
        "  print(\"Não tem nenhum aluno\")\n",
        "elif(len(alunos) == 1):\n",
        "    print(alunos[0])\n",
        "elif(len(alunos) == 2):\n",
        "    print(alunos[0])\n",
        "    print(alunos[1])\n",
        "elif(len(alunos) == 3):\n",
        "    print(alunos[0])\n",
        "    print(alunos[1])\n",
        "    print(alunos[2])\n",
        "elif(len(alunos) == 4):\n",
        "    print(alunos[0])\n",
        "    print(alunos[1])\n",
        "    print(alunos[2])\n",
        "    print(alunos[3])\n"
      ],
      "execution_count": null,
      "outputs": []
    },
    {
      "cell_type": "markdown",
      "metadata": {
        "id": "xxOXazss_iwX"
      },
      "source": [
        "## Para Laços de Repetição podemos utilizar o comando FOR\n",
        "#### Ele é utilizado da seguinte maneira:  'For Iterando in Lista'"
      ]
    },
    {
      "cell_type": "code",
      "metadata": {
        "id": "mKEGR-YS_dT4"
      },
      "source": [
        "# Lista de todos os alunos\n",
        "alunos = ['Felipe','Haynes','Alisson']\n",
        "\n",
        "alunos.append('Josemar')\n",
        "\n",
        "# Para todos os alunos => vou printar o nome\n",
        "for aluno in alunos:\n",
        "  print(aluno)"
      ],
      "execution_count": null,
      "outputs": []
    },
    {
      "cell_type": "markdown",
      "metadata": {
        "id": "5-feX9-LAJAq"
      },
      "source": [
        "**Para utilizarmos um intervalo no for (ou seja, de X até Y) podemos usar a função Range**  \n",
        "Com a função range() nós podemos fazer o bloco for iterar quantas vezes definirmos"
      ]
    },
    {
      "cell_type": "code",
      "metadata": {
        "id": "LW3B-jLjAKDl"
      },
      "source": [
        "notas = []\n",
        "\n",
        "for i in range(4,11):\n",
        "  notas.append(i)\n",
        "\n",
        "for nota in notas:\n",
        "  print(nota)"
      ],
      "execution_count": null,
      "outputs": []
    },
    {
      "cell_type": "markdown",
      "metadata": {
        "id": "LhnS_MqGAyid"
      },
      "source": [
        "**Assim como podemos ter listas dentro de listas, nós podemos ter for dentro de for**  \n",
        "Na computação chamamos isso de for aninhado"
      ]
    },
    {
      "cell_type": "code",
      "metadata": {
        "id": "lKQC5PYoAvss"
      },
      "source": [
        "def main():\n",
        "  # Todos os possiveis alunos\n",
        "  # Felipe, Alisson, Haynes, Josemar\n",
        "  alunos = ['Felipe','Alisson','Haynes','Josemar']\n",
        "  \n",
        "  # As notas respectivas dos alunos\n",
        "  # 8 e 10, 10 e 7, 8 e 9, 10 e 10\n",
        "  notas = [[8,10],[10,7],[8,9],[8,9]]\n",
        "\n",
        "  for aluno in alunos:\n",
        "    print(aluno)\n",
        "\n",
        "  # Media de [Primeiro Aluno] = [Notas do 1º] / 2\n",
        "  # Para todos -> Media do [Atual] = [Notas do Atual] /2\n",
        "\n",
        "  for lista_notas in notas:\n",
        "    soma = 0\n",
        "    for nota in lista_notas:\n",
        "      soma += nota\n",
        "    media = soma / len(lista_notas)\n",
        "    print(media)\n",
        "\n",
        "\n",
        "\n",
        "main()"
      ],
      "execution_count": null,
      "outputs": []
    },
    {
      "cell_type": "markdown",
      "metadata": {
        "id": "TeO33oPvCjof"
      },
      "source": [
        "**Os laços for (laços de repetição) são muito úteis para se trabalhar com índices**"
      ]
    },
    {
      "cell_type": "code",
      "metadata": {
        "colab": {
          "base_uri": "https://localhost:8080/"
        },
        "id": "lNlkwIZ8CkVo",
        "outputId": "39a303da-fcd0-468e-983f-fa9c8bf7671e"
      },
      "source": [
        "def main():\n",
        "  # Todos os possiveis alunos\n",
        "  # Felipe, Alisson, Haynes, ByLearner\n",
        "  alunos = ['Felipe','Alisson','Haynes','Josemar','ByLearner']\n",
        "\n",
        "  # As notas respectivas dos alunos\n",
        "  # 8 e 10, 10 e 7, 8 e 9, 10 e 10\n",
        "  notas = [[8,10],[10,7],[8,9],[10,10],[5,5]]\n",
        "\n",
        "  # Media de [Primeiro Aluno] = [Notas do 1º] / 2\n",
        "  # Para todos -> Media do [Atual] = [Notas do Atual] /2\n",
        "  if(len(alunos)==len(notas)):\n",
        "    for indice in range(len(alunos)):\n",
        "      soma = 0\n",
        "      for nota in notas[indice]:\n",
        "        soma += nota\n",
        "      media = soma / len(notas[indice])\n",
        "      print(f'O aluno {alunos[indice]} tem a média {media}')\n",
        "      if(media >= 6):\n",
        "        print(f'- Portanto, ele foi aprovado.')\n",
        "      else:\n",
        "        print(f'- Portanto, ele foi reprovado.')\n",
        "    \n",
        "  else:\n",
        "    print('Tem algo de errado!\\nProvavelmente algum aluno não fez a prova.')\n",
        "\n",
        "\n",
        "\n",
        "\n",
        "\n",
        "main()"
      ],
      "execution_count": null,
      "outputs": [
        {
          "output_type": "stream",
          "text": [
            "O aluno Felipe tem a média 9.0\n",
            "- Portanto, ele foi aprovado.\n",
            "O aluno Alisson tem a média 8.5\n",
            "- Portanto, ele foi aprovado.\n",
            "O aluno Haynes tem a média 8.5\n",
            "- Portanto, ele foi aprovado.\n",
            "O aluno Josemar tem a média 10.0\n",
            "- Portanto, ele foi aprovado.\n",
            "O aluno ByLearner tem a média 5.0\n",
            "- Portanto, ele foi reprovado.\n"
          ],
          "name": "stdout"
        }
      ]
    },
    {
      "cell_type": "markdown",
      "metadata": {
        "id": "UaSAzu7FG80R"
      },
      "source": [
        "**Laços de repetição for também funcionam com strings, mostrando caracter por caracter**"
      ]
    },
    {
      "cell_type": "code",
      "metadata": {
        "colab": {
          "base_uri": "https://localhost:8080/"
        },
        "id": "DufT5MkMG9be",
        "outputId": "4953abdf-7d24-406e-f32e-e8cbc4d75441"
      },
      "source": [
        "string = 'Curso de Python da ByLearn'\n",
        "\n",
        "for char in string:\n",
        "  print(char)"
      ],
      "execution_count": null,
      "outputs": [
        {
          "output_type": "stream",
          "text": [
            "C\n",
            "u\n",
            "r\n",
            "s\n",
            "o\n",
            " \n",
            "d\n",
            "e\n",
            " \n",
            "P\n",
            "y\n",
            "t\n",
            "h\n",
            "o\n",
            "n\n",
            " \n",
            "d\n",
            "a\n",
            " \n",
            "B\n",
            "y\n",
            "L\n",
            "e\n",
            "a\n",
            "r\n",
            "n\n"
          ],
          "name": "stdout"
        }
      ]
    },
    {
      "cell_type": "markdown",
      "metadata": {
        "id": "Pf40NyIyI54T"
      },
      "source": [
        "**1º nós podemos usar o enumerate() para além do valor, também termos o índice**  \n",
        "**2º Não precisamos necessariamente usar for aninhada, podemos usar a virgula para definir os elementos que queremos recuperar (ex: chave, valor)**"
      ]
    },
    {
      "cell_type": "code",
      "metadata": {
        "colab": {
          "base_uri": "https://localhost:8080/"
        },
        "id": "FkNw2KJYH8zr",
        "outputId": "8af916b7-28da-46db-b054-fef2368e11d8"
      },
      "source": [
        "lista = ['J','o','s','e','m','a','r']\n",
        "\n",
        "for chave, valor in enumerate(lista):\n",
        "  print('O valor ',valor,'fica no indice',chave)"
      ],
      "execution_count": null,
      "outputs": [
        {
          "output_type": "stream",
          "text": [
            "O valor  J fica no indice 0\n",
            "O valor  o fica no indice 1\n",
            "O valor  s fica no indice 2\n",
            "O valor  e fica no indice 3\n",
            "O valor  m fica no indice 4\n",
            "O valor  a fica no indice 5\n",
            "O valor  r fica no indice 6\n"
          ],
          "name": "stdout"
        }
      ]
    },
    {
      "cell_type": "markdown",
      "metadata": {
        "id": "dP4xlvt5QS-P"
      },
      "source": [
        "## Outro laço de repetição é o While, que significa Enquanto\n",
        "### Funciona enquanto uma condição for verdadeira fazendo uma determinada ação"
      ]
    },
    {
      "cell_type": "code",
      "metadata": {
        "colab": {
          "base_uri": "https://localhost:8080/"
        },
        "id": "2BXAXxphQT0g",
        "outputId": "9d71554c-35aa-4803-f058-a78b856ff8b8"
      },
      "source": [
        "contador = 1\n",
        "\n",
        "while contador < 6:\n",
        "  print(contador)# Devemos tomar cuidado para não entrar em loop (quando retiramos contador +=1 do codigo )\n",
        "  contador +=1"
      ],
      "execution_count": null,
      "outputs": [
        {
          "output_type": "stream",
          "text": [
            "1\n",
            "2\n",
            "3\n",
            "4\n",
            "5\n"
          ],
          "name": "stdout"
        }
      ]
    },
    {
      "cell_type": "code",
      "metadata": {
        "colab": {
          "base_uri": "https://localhost:8080/"
        },
        "id": "la9Ch1X4Zt2y",
        "outputId": "5126f8f1-04ed-486e-a26d-9a0211b55919"
      },
      "source": [
        "condicao_de_parada = '0'\n",
        "\n",
        "while condicao_de_parada != '9':\n",
        "  condicao_de_parada = input(\"Digite um número: \")\n",
        "  for i in range(1,int(condicao_de_parada)+1):\n",
        "    print(i)"
      ],
      "execution_count": null,
      "outputs": [
        {
          "output_type": "stream",
          "text": [
            "Digite um número: 3\n",
            "1\n",
            "2\n",
            "3\n",
            "Digite um número: 4\n",
            "1\n",
            "2\n",
            "3\n",
            "4\n",
            "Digite um número: 9\n",
            "1\n",
            "2\n",
            "3\n",
            "4\n",
            "5\n",
            "6\n",
            "7\n",
            "8\n",
            "9\n"
          ],
          "name": "stdout"
        }
      ]
    },
    {
      "cell_type": "markdown",
      "metadata": {
        "id": "EVkol8F9a0b0"
      },
      "source": [
        "Lembrete: Não da para iterar em um inteiro, precisa ser em um intervalo (algo iterável)"
      ]
    },
    {
      "cell_type": "code",
      "metadata": {
        "colab": {
          "base_uri": "https://localhost:8080/",
          "height": 185
        },
        "id": "OlEHV001a1zr",
        "outputId": "bb20da63-21cc-4293-8aad-5b7db064480e"
      },
      "source": [
        "for i in 9:\n",
        "  print(i)"
      ],
      "execution_count": null,
      "outputs": [
        {
          "output_type": "error",
          "ename": "TypeError",
          "evalue": "ignored",
          "traceback": [
            "\u001b[0;31m---------------------------------------------------------------------------\u001b[0m",
            "\u001b[0;31mTypeError\u001b[0m                                 Traceback (most recent call last)",
            "\u001b[0;32m<ipython-input-3-b63b127319d1>\u001b[0m in \u001b[0;36m<module>\u001b[0;34m()\u001b[0m\n\u001b[0;32m----> 1\u001b[0;31m \u001b[0;32mfor\u001b[0m \u001b[0mi\u001b[0m \u001b[0;32min\u001b[0m \u001b[0;36m9\u001b[0m\u001b[0;34m:\u001b[0m\u001b[0;34m\u001b[0m\u001b[0;34m\u001b[0m\u001b[0m\n\u001b[0m\u001b[1;32m      2\u001b[0m   \u001b[0mprint\u001b[0m\u001b[0;34m(\u001b[0m\u001b[0mi\u001b[0m\u001b[0;34m)\u001b[0m\u001b[0;34m\u001b[0m\u001b[0;34m\u001b[0m\u001b[0m\n",
            "\u001b[0;31mTypeError\u001b[0m: 'int' object is not iterable"
          ]
        }
      ]
    },
    {
      "cell_type": "markdown",
      "metadata": {
        "id": "6AzSiuIObBmY"
      },
      "source": [
        "## Utilizando Continue e Break\n",
        "**Continue** => Continuar em português => Continuo a minha operação de loop => Vou pra próxima etapa  \n",
        "**Break** => Quebra em português => Quebrar a minha operação de loop => Interromper o loop nesta etapa"
      ]
    },
    {
      "cell_type": "code",
      "metadata": {
        "colab": {
          "base_uri": "https://localhost:8080/"
        },
        "id": "DXo7AO1PbCYf",
        "outputId": "ad34c402-f897-4e11-c086-374cf1dc354c"
      },
      "source": [
        "i = 1\n",
        "\n",
        "while i < 5:\n",
        "  print(i)\n",
        "  i += 1\n",
        "  if i ==3:\n",
        "    break\n",
        "\n",
        "for x in range(10,20):\n",
        "  print(x)\n",
        "  if x == 15:\n",
        "    break"
      ],
      "execution_count": null,
      "outputs": [
        {
          "output_type": "stream",
          "text": [
            "1\n",
            "2\n",
            "10\n",
            "11\n",
            "12\n",
            "13\n",
            "14\n",
            "15\n"
          ],
          "name": "stdout"
        }
      ]
    },
    {
      "cell_type": "code",
      "metadata": {
        "colab": {
          "base_uri": "https://localhost:8080/"
        },
        "id": "iqHB84zHbjTO",
        "outputId": "ab4efaa0-2de1-4c7a-ba71-064fe3f716b1"
      },
      "source": [
        "i = 0\n",
        "\n",
        "while i < 6:\n",
        "  i += 1\n",
        "  if i == 3:\n",
        "      continue\n",
        "  print(i)\n",
        "\n",
        "for x in range(10,20):\n",
        "  if x == 15:\n",
        "      continue\n",
        "  print(x)"
      ],
      "execution_count": null,
      "outputs": [
        {
          "output_type": "stream",
          "text": [
            "1\n",
            "2\n",
            "4\n",
            "5\n",
            "6\n",
            "10\n",
            "11\n",
            "12\n",
            "13\n",
            "14\n",
            "16\n",
            "17\n",
            "18\n",
            "19\n"
          ],
          "name": "stdout"
        }
      ]
    },
    {
      "cell_type": "markdown",
      "metadata": {
        "id": "-w3IF3J5cV6P"
      },
      "source": [
        "## Desafio 5.2: Par ou Ímpar\n",
        "Você deve mostrar todos os números Pares e pular os Ímpares  \n",
        "No intervalo de 0 e 20 onde se checar no numero 15 nós vamos parar a execução"
      ]
    },
    {
      "cell_type": "code",
      "metadata": {
        "id": "tp-sWuWZcZKQ"
      },
      "source": [
        "# Mod = Pegar o Resto da divisão\n",
        "# Exemplo:  5 % 3 = 2 (resto da divisão de 5 por 3)"
      ],
      "execution_count": null,
      "outputs": []
    },
    {
      "cell_type": "code",
      "metadata": {
        "colab": {
          "base_uri": "https://localhost:8080/"
        },
        "id": "PX-vvG5bckqJ",
        "outputId": "2573f158-f0d0-44e8-c078-31a267129a93"
      },
      "source": [
        "for numero in range(20):\n",
        "  if(numero == 15):\n",
        "    break\n",
        "  if(numero % 2 == 1):\n",
        "    continue # 1 , 3 , 5 .. 13, 15\n",
        "  print(numero)"
      ],
      "execution_count": null,
      "outputs": [
        {
          "output_type": "stream",
          "text": [
            "0\n",
            "2\n",
            "4\n",
            "6\n",
            "8\n",
            "10\n",
            "12\n",
            "14\n"
          ],
          "name": "stdout"
        }
      ]
    },
    {
      "cell_type": "code",
      "metadata": {
        "colab": {
          "base_uri": "https://localhost:8080/"
        },
        "id": "KgZVAsLJdH9M",
        "outputId": "169c6ca8-2827-4ee8-ed8e-709e39b63d95"
      },
      "source": [
        "for numero in range (20):\n",
        "  if(numero % 2 == 0 and numero < 15):\n",
        "    print(numero)"
      ],
      "execution_count": null,
      "outputs": [
        {
          "output_type": "stream",
          "text": [
            "0\n",
            "2\n",
            "4\n",
            "6\n",
            "8\n",
            "10\n",
            "12\n",
            "14\n"
          ],
          "name": "stdout"
        }
      ]
    },
    {
      "cell_type": "markdown",
      "metadata": {
        "id": "FqB4nuzZdaSf"
      },
      "source": [
        "## Extra: Há o Else em Laços de Repetição\n",
        "Esse else ocorre depois do fim do laço"
      ]
    },
    {
      "cell_type": "code",
      "metadata": {
        "colab": {
          "base_uri": "https://localhost:8080/"
        },
        "id": "YzNAqUKOdbBw",
        "outputId": "14ddfd88-0a48-4358-9138-42958b8b4480"
      },
      "source": [
        "for i in range(5):\n",
        "  print(i)\n",
        "\n",
        "else:\n",
        "  print('Após o laço, após a iteração')"
      ],
      "execution_count": null,
      "outputs": [
        {
          "output_type": "stream",
          "text": [
            "0\n",
            "1\n",
            "2\n",
            "3\n",
            "4\n",
            "Após o laço, após a iteração\n"
          ],
          "name": "stdout"
        }
      ]
    },
    {
      "cell_type": "code",
      "metadata": {
        "colab": {
          "base_uri": "https://localhost:8080/"
        },
        "id": "_9BJ_7tCdxHJ",
        "outputId": "e8a0df72-3884-4b1d-ec89-97fd4c69f3eb"
      },
      "source": [
        "i = 1\n",
        "\n",
        "while i < 5:\n",
        "  print(i)\n",
        "  i += 1\n",
        "\n",
        "else:\n",
        "  print('i não é menor que 5')\n",
        "  print(i)"
      ],
      "execution_count": null,
      "outputs": [
        {
          "output_type": "stream",
          "text": [
            "1\n",
            "2\n",
            "3\n",
            "4\n",
            "i não é menor que 5\n",
            "5\n"
          ],
          "name": "stdout"
        }
      ]
    },
    {
      "cell_type": "markdown",
      "metadata": {
        "id": "z8TnHh-5eahF"
      },
      "source": [
        "## Diferença de uso entre For e While\n",
        "O laço **for** é geralmente usado quando nós sabemos o número de repetições de antemão;  \n",
        "\n",
        "Já o **while** é para quando temos uma ideia de condição de para, mas não sabemos exatamente quando isso acontece (número de iterações até isso acontecer)"
      ]
    },
    {
      "cell_type": "markdown",
      "metadata": {
        "id": "6aL-E5B8jGYZ"
      },
      "source": [
        "# Tuplas, Dicionários, Conjuntos e Listas"
      ]
    },
    {
      "cell_type": "markdown",
      "metadata": {
        "id": "I7FO0WA6jKO5"
      },
      "source": [
        "### Listas\n",
        "* Pode-se aumentar e diminuir o tamanho\n",
        "* Pode-se modificar o valor de um elemento\n",
        "* É a mais popular dos 4\n",
        "* É inicializável com []"
      ]
    },
    {
      "cell_type": "code",
      "metadata": {
        "id": "O-1IbJ5KjHOv"
      },
      "source": [
        "lista = []\n",
        "lista = [0,1,2]\n",
        "lista = [i for i in range(3)]\n",
        "\n"
      ],
      "execution_count": null,
      "outputs": []
    },
    {
      "cell_type": "markdown",
      "metadata": {
        "id": "pYaNZk-LjpcQ"
      },
      "source": [
        "### Tuplas\n",
        "* É totalmente imutável (não permite alterações)\n",
        "* Útil para dados fixos\n",
        "* Muito mais rápida do que uma lista\n",
        "* É inicializável com ()"
      ]
    },
    {
      "cell_type": "code",
      "metadata": {
        "id": "xQvOlhaBjoI1"
      },
      "source": [
        "tupla = ()\n",
        "tupla = (0,1,2,3,4)\n",
        "tupla = tuple([i for i in range(5)])\n"
      ],
      "execution_count": null,
      "outputs": []
    },
    {
      "cell_type": "markdown",
      "metadata": {
        "id": "nAPdeow2ko02"
      },
      "source": [
        "### Conjuntos\n",
        "* Não é ordenado\n",
        "* Não aceita valores duplicados\n",
        "* Possui operação dos Conjuntos Matemáticos\n",
        "* É inicializável com {}"
      ]
    },
    {
      "cell_type": "code",
      "metadata": {
        "id": "JJC1kbNojoGM"
      },
      "source": [
        "conjunto = {'item'}\n",
        "conjunto = {'a',1,2,'b'}"
      ],
      "execution_count": null,
      "outputs": []
    },
    {
      "cell_type": "markdown",
      "metadata": {
        "id": "3-ajbZLxk7PA"
      },
      "source": [
        "### Dicionários\n",
        "* Possuem chave e valor\n",
        "* São mutáveis\n",
        "* Não aceitam chaves duplicadas\n",
        "* É inicializável com {'chave':'valor'}"
      ]
    },
    {
      "cell_type": "code",
      "metadata": {
        "id": "VDeGEvb1lAbG"
      },
      "source": [
        "dicionario = {'chave':'valor','chave2':'valor2'}\n",
        "\n"
      ],
      "execution_count": null,
      "outputs": []
    },
    {
      "cell_type": "markdown",
      "metadata": {
        "id": "XSzZo6Z-l9sz"
      },
      "source": [
        "## Revisão sobre Listas"
      ]
    },
    {
      "cell_type": "code",
      "metadata": {
        "colab": {
          "base_uri": "https://localhost:8080/"
        },
        "id": "syO0mdD9mBut",
        "outputId": "b0b7e169-6ee7-4ebf-ff02-442417439782"
      },
      "source": [
        "lista = []\n",
        "print(lista)\n",
        "print(type(lista))\n",
        "print(type([]))"
      ],
      "execution_count": null,
      "outputs": [
        {
          "output_type": "stream",
          "text": [
            "[]\n",
            "<class 'list'>\n",
            "<class 'list'>\n"
          ],
          "name": "stdout"
        }
      ]
    },
    {
      "cell_type": "code",
      "metadata": {
        "colab": {
          "base_uri": "https://localhost:8080/"
        },
        "id": "HmSpaLPSmOFa",
        "outputId": "fa738a40-f236-4dbe-9244-b13b0cd1479b"
      },
      "source": [
        "lista = [0,1,2,3,4,5,6,7,8,9,10]\n",
        "print(lista)"
      ],
      "execution_count": null,
      "outputs": [
        {
          "output_type": "stream",
          "text": [
            "[0, 1, 2, 3, 4, 5, 6, 7, 8, 9, 10]\n"
          ],
          "name": "stdout"
        }
      ]
    },
    {
      "cell_type": "code",
      "metadata": {
        "colab": {
          "base_uri": "https://localhost:8080/"
        },
        "id": "N2XmrVZ2mXUC",
        "outputId": "4dd2beca-631d-4f1c-ed72-16864da79069"
      },
      "source": [
        "lista = []\n",
        "for i in range(11):\n",
        "  lista.append(i)\n",
        "print(lista)"
      ],
      "execution_count": null,
      "outputs": [
        {
          "output_type": "stream",
          "text": [
            "[0, 1, 2, 3, 4, 5, 6, 7, 8, 9, 10]\n"
          ],
          "name": "stdout"
        }
      ]
    },
    {
      "cell_type": "code",
      "metadata": {
        "colab": {
          "base_uri": "https://localhost:8080/"
        },
        "id": "cXznXr7-myvz",
        "outputId": "d3649e65-ea76-4efe-ac4a-cd73212eba4e"
      },
      "source": [
        "lista = [i for i in range(11)]\n",
        "print(lista)"
      ],
      "execution_count": null,
      "outputs": [
        {
          "output_type": "stream",
          "text": [
            "[0, 1, 2, 3, 4, 5, 6, 7, 8, 9, 10]\n"
          ],
          "name": "stdout"
        }
      ]
    },
    {
      "cell_type": "code",
      "metadata": {
        "id": "II4o87t2nNeM"
      },
      "source": [
        "lista[6] = 10\n",
        "lista[5] = 15"
      ],
      "execution_count": null,
      "outputs": []
    },
    {
      "cell_type": "code",
      "metadata": {
        "id": "Ws9rGldnnXZx"
      },
      "source": [
        "lista.remove(4)"
      ],
      "execution_count": null,
      "outputs": []
    },
    {
      "cell_type": "markdown",
      "metadata": {
        "id": "HgLlCNd4nbBp"
      },
      "source": [
        "## Aula de Tuplas"
      ]
    },
    {
      "cell_type": "code",
      "metadata": {
        "colab": {
          "base_uri": "https://localhost:8080/"
        },
        "id": "H1cXNYl2ngQl",
        "outputId": "078138ab-c17f-439f-e577-221712bb1e15"
      },
      "source": [
        "tupla = ()\n",
        "print(tupla)\n",
        "print(type(tupla))\n",
        "print(type(()))"
      ],
      "execution_count": null,
      "outputs": [
        {
          "output_type": "stream",
          "text": [
            "()\n",
            "<class 'tuple'>\n",
            "<class 'tuple'>\n"
          ],
          "name": "stdout"
        }
      ]
    },
    {
      "cell_type": "code",
      "metadata": {
        "colab": {
          "base_uri": "https://localhost:8080/"
        },
        "id": "F_kDpYeooFuX",
        "outputId": "c08c49e4-dc62-42db-af03-effbb1f3dfdb"
      },
      "source": [
        "tupla = (1,2,3) # Ela é inicializado e fica fixa dessa maneira\n",
        "print(tupla)"
      ],
      "execution_count": null,
      "outputs": [
        {
          "output_type": "stream",
          "text": [
            "(1, 2, 3)\n"
          ],
          "name": "stdout"
        }
      ]
    },
    {
      "cell_type": "code",
      "metadata": {
        "colab": {
          "base_uri": "https://localhost:8080/"
        },
        "id": "ZK5JVSiloRf7",
        "outputId": "f9d67c03-8caa-415f-8b16-e07c382fc6ad"
      },
      "source": [
        "print(tupla[0])\n",
        "print(tupla[2])"
      ],
      "execution_count": null,
      "outputs": [
        {
          "output_type": "stream",
          "text": [
            "1\n",
            "3\n"
          ],
          "name": "stdout"
        }
      ]
    },
    {
      "cell_type": "code",
      "metadata": {
        "id": "kwg4Qhajoku_"
      },
      "source": [
        "tupla.append(4) # Tupla não permite adicionar novos elementos"
      ],
      "execution_count": null,
      "outputs": []
    },
    {
      "cell_type": "code",
      "metadata": {
        "id": "LrsYQP8oo1eQ"
      },
      "source": [
        "tupla[0] = 4 # Tupla não permite modificar os elementos existentes"
      ],
      "execution_count": null,
      "outputs": []
    },
    {
      "cell_type": "code",
      "metadata": {
        "id": "XOsnBGPUpAv2"
      },
      "source": [
        "tupla.remove(1) # Tupla não permite remover elementos"
      ],
      "execution_count": null,
      "outputs": []
    },
    {
      "cell_type": "markdown",
      "metadata": {
        "id": "Rov5SysspNMK"
      },
      "source": [
        "**Conclusão:** Tuplas são imutáveis "
      ]
    },
    {
      "cell_type": "markdown",
      "metadata": {
        "id": "gKDRNJsIpOJW"
      },
      "source": [
        "Para criarmos ou convertermos um objeto para uma tupla podemos usar a função **tuple()**"
      ]
    },
    {
      "cell_type": "code",
      "metadata": {
        "colab": {
          "base_uri": "https://localhost:8080/"
        },
        "id": "n_lI-WiRpU-a",
        "outputId": "8ad151ce-1846-4cb0-9218-4c4e148ed6ac"
      },
      "source": [
        "tupla = tuple([i for i in range(11)])\n",
        "print(tupla)"
      ],
      "execution_count": null,
      "outputs": [
        {
          "output_type": "stream",
          "text": [
            "(0, 1, 2, 3, 4, 5, 6, 7, 8, 9, 10)\n"
          ],
          "name": "stdout"
        }
      ]
    },
    {
      "cell_type": "code",
      "metadata": {
        "colab": {
          "base_uri": "https://localhost:8080/"
        },
        "id": "6o30SI1-qc8I",
        "outputId": "a1fd02b1-d386-4194-8630-ad2e7f594e4d"
      },
      "source": [
        "lista = [1,2,3]\n",
        "tupla = tuple(lista)\n",
        "print(type(lista))\n",
        "print(type(tupla))"
      ],
      "execution_count": null,
      "outputs": [
        {
          "output_type": "stream",
          "text": [
            "<class 'list'>\n",
            "<class 'tuple'>\n"
          ],
          "name": "stdout"
        }
      ]
    },
    {
      "cell_type": "markdown",
      "metadata": {
        "id": "s2syKJL-q17y"
      },
      "source": [
        "Podemos tranformar uma lista em tupla e vice-versa, dessa forma, podemos editar seus valores"
      ]
    },
    {
      "cell_type": "code",
      "metadata": {
        "colab": {
          "base_uri": "https://localhost:8080/"
        },
        "id": "lgiSGYc9qyYJ",
        "outputId": "f5e62cc4-9a74-44bc-f688-57f071b4fe32"
      },
      "source": [
        "tupla = (1,2,3,4,5)\n",
        "lista = list(tupla)\n",
        "lista.append(6)\n",
        "lista[2] = 'Teste'\n",
        "lista.remove(4)\n",
        "tupla = tuple(lista)\n",
        "print(tupla)"
      ],
      "execution_count": null,
      "outputs": [
        {
          "output_type": "stream",
          "text": [
            "(1, 2, 'Teste', 5, 6)\n"
          ],
          "name": "stdout"
        }
      ]
    },
    {
      "cell_type": "markdown",
      "metadata": {
        "id": "uPlEwHT4rWgG"
      },
      "source": [
        "**Operações Gerais para Estruturas de Dados Tuplas, Dicionários, Conjuntos e Listas:**"
      ]
    },
    {
      "cell_type": "code",
      "metadata": {
        "colab": {
          "base_uri": "https://localhost:8080/"
        },
        "id": "rp6cX0NkrXS1",
        "outputId": "fffafdd0-37e9-4f98-b616-11e612379529"
      },
      "source": [
        "tupla = (1,2,3,4,5)\n",
        "print(tupla[0])\n",
        "print(tupla[1:4])\n",
        "print(tupla[-1])\n",
        "print(len(tupla))\n",
        "print(3 in tupla) #True\n",
        "print(4 not in tupla) #False\n",
        "\n",
        "for i in tupla:\n",
        "  print(i)"
      ],
      "execution_count": null,
      "outputs": [
        {
          "output_type": "stream",
          "text": [
            "1\n",
            "(2, 3, 4)\n",
            "5\n",
            "5\n",
            "True\n",
            "False\n",
            "1\n",
            "2\n",
            "3\n",
            "4\n",
            "5\n"
          ],
          "name": "stdout"
        }
      ]
    },
    {
      "cell_type": "markdown",
      "metadata": {
        "id": "La_hbCT5wpCd"
      },
      "source": [
        "## Aula sobre Conjuntos (sets)\n",
        "**Vem da teoria dos conjuntos matemáticos, tendo todas as operações eles possuem**"
      ]
    },
    {
      "cell_type": "code",
      "metadata": {
        "colab": {
          "base_uri": "https://localhost:8080/"
        },
        "id": "P-me4pZFwnbW",
        "outputId": "985320ff-313c-4624-a8df-d4f476abaeae"
      },
      "source": [
        "conjunto = {'teste'}\n",
        "print(conjunto)\n",
        "print(type(conjunto))\n",
        "print(type({1}))"
      ],
      "execution_count": null,
      "outputs": [
        {
          "output_type": "stream",
          "text": [
            "{'teste'}\n",
            "<class 'set'>\n",
            "<class 'set'>\n"
          ],
          "name": "stdout"
        }
      ]
    },
    {
      "cell_type": "code",
      "metadata": {
        "colab": {
          "base_uri": "https://localhost:8080/"
        },
        "id": "satnHCpAxI3-",
        "outputId": "ad611461-aedb-488e-ccc0-b5dcc3bfbe06"
      },
      "source": [
        "conjunto = {1,2,3,1,4,3}\n",
        "print(conjunto) # Não aceitam duplicatas"
      ],
      "execution_count": null,
      "outputs": [
        {
          "output_type": "stream",
          "text": [
            "{1, 2, 3, 4}\n"
          ],
          "name": "stdout"
        }
      ]
    },
    {
      "cell_type": "code",
      "metadata": {
        "colab": {
          "base_uri": "https://localhost:8080/"
        },
        "id": "-hZ_DNhoxT9V",
        "outputId": "940cd2fc-848f-4d1f-b0cc-386f66997b7d"
      },
      "source": [
        "conjunto1 = {'a','b','c','d'}\n",
        "conjunto2 = {'j','m','n','c','d'}\n",
        "conjunto1.add('f') # Add => Adição => Operação dos Conjuntos Matemáticos\n",
        "conjunto2.add('g')\n",
        "print(conjunto1) # Não são ordenados\n",
        "print(conjunto2) # Não são ordenados"
      ],
      "execution_count": null,
      "outputs": [
        {
          "output_type": "stream",
          "text": [
            "{'d', 'b', 'c', 'a', 'f'}\n",
            "{'d', 'm', 'g', 'c', 'j', 'n'}\n"
          ],
          "name": "stdout"
        }
      ]
    },
    {
      "cell_type": "markdown",
      "metadata": {
        "id": "Co6NlyVWzWg6"
      },
      "source": [
        "**Operações com um só conjunto por vez**  \n",
        "**ADD:** Adiciona apenas um item"
      ]
    },
    {
      "cell_type": "code",
      "metadata": {
        "colab": {
          "base_uri": "https://localhost:8080/"
        },
        "id": "P_VnDF56zdHf",
        "outputId": "61cd4c69-57eb-4611-c32a-c9a799760050"
      },
      "source": [
        "frutas = {'maçã','uva'}\n",
        "print(frutas)\n",
        "frutas.add('laranja')\n",
        "print(frutas)"
      ],
      "execution_count": null,
      "outputs": [
        {
          "output_type": "stream",
          "text": [
            "{'uva', 'maçã'}\n",
            "{'uva', 'maçã', 'laranja'}\n"
          ],
          "name": "stdout"
        }
      ]
    },
    {
      "cell_type": "markdown",
      "metadata": {
        "id": "N_Y_DNbp2bqd"
      },
      "source": [
        "**Update:** Adiciona mais de um item por vez"
      ]
    },
    {
      "cell_type": "code",
      "metadata": {
        "colab": {
          "base_uri": "https://localhost:8080/"
        },
        "id": "bbBT6CmJ2cXA",
        "outputId": "e5294cd9-18bd-4141-c564-3b9120d9b565"
      },
      "source": [
        "frutas = {'maçã','uva'}\n",
        "frutas.update(['pera','abacaxi','melancia','morango'])\n",
        "print(frutas)"
      ],
      "execution_count": null,
      "outputs": [
        {
          "output_type": "stream",
          "text": [
            "{'pera', 'abacaxi', 'maçã', 'morango', 'uva', 'melancia'}\n"
          ],
          "name": "stdout"
        }
      ]
    },
    {
      "cell_type": "markdown",
      "metadata": {
        "id": "3erUJqVd3mgL"
      },
      "source": [
        "**Remove:** Remove, mas dá erro se o valor não existir  \n",
        "**Discard:** Remove e não da erro se o valor não existir"
      ]
    },
    {
      "cell_type": "code",
      "metadata": {
        "colab": {
          "base_uri": "https://localhost:8080/",
          "height": 158
        },
        "id": "gYMhlMrt3itb",
        "outputId": "c6b035f3-b26e-4e01-8880-5641d3036e2f"
      },
      "source": [
        "frutas.remove('maçã') # Remove dá erro se o valor já não existe"
      ],
      "execution_count": null,
      "outputs": [
        {
          "output_type": "error",
          "ename": "KeyError",
          "evalue": "ignored",
          "traceback": [
            "\u001b[0;31m---------------------------------------------------------------------------\u001b[0m",
            "\u001b[0;31mKeyError\u001b[0m                                  Traceback (most recent call last)",
            "\u001b[0;32m<ipython-input-37-48e1096374ea>\u001b[0m in \u001b[0;36m<module>\u001b[0;34m()\u001b[0m\n\u001b[0;32m----> 1\u001b[0;31m \u001b[0mfrutas\u001b[0m\u001b[0;34m.\u001b[0m\u001b[0mremove\u001b[0m\u001b[0;34m(\u001b[0m\u001b[0;34m'maçã'\u001b[0m\u001b[0;34m)\u001b[0m \u001b[0;31m# Remove dá erro se o valor já não existe\u001b[0m\u001b[0;34m\u001b[0m\u001b[0;34m\u001b[0m\u001b[0m\n\u001b[0m",
            "\u001b[0;31mKeyError\u001b[0m: 'maçã'"
          ]
        }
      ]
    },
    {
      "cell_type": "code",
      "metadata": {
        "colab": {
          "base_uri": "https://localhost:8080/"
        },
        "id": "Fc4APlmO30eL",
        "outputId": "38d1b7e4-0549-40b2-e0a8-82888baac689"
      },
      "source": [
        "frutas.discard('maçã')\n",
        "print(frutas)"
      ],
      "execution_count": null,
      "outputs": [
        {
          "output_type": "stream",
          "text": [
            "{'pera', 'abacaxi', 'morango', 'uva', 'melancia'}\n"
          ],
          "name": "stdout"
        }
      ]
    },
    {
      "cell_type": "markdown",
      "metadata": {
        "id": "NVeMYOrL4SBm"
      },
      "source": [
        "**Clear:** Remove todos os itens"
      ]
    },
    {
      "cell_type": "code",
      "metadata": {
        "colab": {
          "base_uri": "https://localhost:8080/"
        },
        "id": "Kneo5Qyb4Rs9",
        "outputId": "1bb449cf-5301-4834-9fc7-7c0ad8a95ada"
      },
      "source": [
        "frutas.clear()\n",
        "print(frutas)"
      ],
      "execution_count": null,
      "outputs": [
        {
          "output_type": "stream",
          "text": [
            "set()\n"
          ],
          "name": "stdout"
        }
      ]
    },
    {
      "cell_type": "markdown",
      "metadata": {
        "id": "FL-chLP_1G0Z"
      },
      "source": [
        "**Operações com um mais de um conjunto por vez**  \n",
        "**Union:** Faz a união (soma) de dois conjuntos, retornando um novo conjunto  \n",
        "**Update:** Também une dois conjuntos, porém, modifica direto no próprio conjunto que chamar esse método"
      ]
    },
    {
      "cell_type": "code",
      "metadata": {
        "colab": {
          "base_uri": "https://localhost:8080/"
        },
        "id": "Tf9UObs61HhU",
        "outputId": "ccf1ce9f-c894-4ab5-cf05-88474d1b7e09"
      },
      "source": [
        "conjunto1 = {'a','b','c','d',}\n",
        "conjunto2 = {'j','m','n','c','d'}\n",
        "\n",
        "conjunto1.update(conjunto2) # Update modifica o meu conjunto\n",
        "print(conjunto1)"
      ],
      "execution_count": null,
      "outputs": [
        {
          "output_type": "stream",
          "text": [
            "{'c', 'm', 'j', 'a', 'd', 'b', 'n'}\n"
          ],
          "name": "stdout"
        }
      ]
    },
    {
      "cell_type": "markdown",
      "metadata": {
        "id": "GtkjzGaY2gfQ"
      },
      "source": [
        "**Intersection:** Me mostra a intersecção entre um e outro  \n",
        "**Difference:** Me mostra a diferença entre o primeiro e segundo"
      ]
    },
    {
      "cell_type": "code",
      "metadata": {
        "colab": {
          "base_uri": "https://localhost:8080/"
        },
        "id": "be7uxQ_J3Aoh",
        "outputId": "67c0dcfe-8f09-40fb-f5f7-58da7e57dfa4"
      },
      "source": [
        "conjunto1 = {'a','b','c','d',}\n",
        "conjunto2 = {'j','m','n','c','d'}\n",
        "\n",
        "interseccao = conjunto1.intersection(conjunto2)\n",
        "\n",
        "print(interseccao)"
      ],
      "execution_count": null,
      "outputs": [
        {
          "output_type": "stream",
          "text": [
            "{'c', 'd'}\n"
          ],
          "name": "stdout"
        }
      ]
    },
    {
      "cell_type": "code",
      "metadata": {
        "colab": {
          "base_uri": "https://localhost:8080/"
        },
        "id": "4jm4KUrQ2fRD",
        "outputId": "9db6c5c5-aab1-4a0c-9c12-217e3aeaf117"
      },
      "source": [
        "conjunto1 = {'a','b','c','d',}\n",
        "conjunto2 = {'j','m','n','c','d'}\n",
        "\n",
        "diferenca = conjunto1.difference(conjunto2)\n",
        "diferenca2 = conjunto2.difference(conjunto1)\n",
        "\n",
        "print(diferenca)\n",
        "print(diferenca2)"
      ],
      "execution_count": null,
      "outputs": [
        {
          "output_type": "stream",
          "text": [
            "{'a', 'b'}\n",
            "{'n', 'm', 'j'}\n"
          ],
          "name": "stdout"
        }
      ]
    },
    {
      "cell_type": "markdown",
      "metadata": {
        "id": "-ImRqH2gTa4L"
      },
      "source": [
        "**Issubset:** Se o primeiro é um subconjunto do segundo"
      ]
    },
    {
      "cell_type": "code",
      "metadata": {
        "colab": {
          "base_uri": "https://localhost:8080/"
        },
        "id": "p5csY0B6TcAV",
        "outputId": "af7c1621-b27c-4c8b-8b43-4b0ecfa78085"
      },
      "source": [
        "conjuntinho = {1,2,3}\n",
        "conjuntao = {1,2,3,4,5,6}\n",
        "\n",
        "subconjunto = conjuntinho.issubset(conjuntao)\n",
        "print(subconjunto)"
      ],
      "execution_count": null,
      "outputs": [
        {
          "output_type": "stream",
          "text": [
            "True\n"
          ],
          "name": "stdout"
        }
      ]
    },
    {
      "cell_type": "markdown",
      "metadata": {
        "id": "LQxXReT-T4ef"
      },
      "source": [
        "**Set():** Converte para Conjunto  \n",
        "**Método Construtor:** É o método que cria uma instancia (objeto) daquela classe"
      ]
    },
    {
      "cell_type": "markdown",
      "metadata": {
        "id": "CxehDi7MT4Tu"
      },
      "source": [
        ""
      ]
    },
    {
      "cell_type": "code",
      "metadata": {
        "id": "Ymh7gzy7T38o"
      },
      "source": [
        "set() # Construtor da classe set \n",
        "tuple() # Construtor da classe tupla\n",
        "list() # Consrtutor da classe lista\n",
        "print()"
      ],
      "execution_count": null,
      "outputs": []
    },
    {
      "cell_type": "code",
      "metadata": {
        "colab": {
          "base_uri": "https://localhost:8080/"
        },
        "id": "IZRb0vxCUJYu",
        "outputId": "8ae35bfd-06bd-43c7-8e12-50f0a18bb4aa"
      },
      "source": [
        "lista = [1,2,3,4,5]\n",
        "tupla = ('a','b','c','d','e','f')\n",
        "conjunto1 = set (lista)\n",
        "conjunto2 = set (tupla)\n",
        "\n",
        "print(conjunto1)\n",
        "print(conjunto2)"
      ],
      "execution_count": null,
      "outputs": [
        {
          "output_type": "stream",
          "text": [
            "{1, 2, 3, 4, 5}\n",
            "{'d', 'b', 'c', 'a', 'e', 'f'}\n"
          ],
          "name": "stdout"
        }
      ]
    },
    {
      "cell_type": "markdown",
      "metadata": {
        "id": "EiRVT_A4VQwh"
      },
      "source": [
        "## Aula Dicionário\n",
        "É uma estrutura de dados composta por chaves e valores."
      ]
    },
    {
      "cell_type": "code",
      "metadata": {
        "id": "iMWeScEWVVRa"
      },
      "source": [
        "# listas = [] => Mutavel, adiciona e remove itens...\n",
        "# tuplas = () => Imutavel, mais rapida...\n",
        "# conjuntos = {} => Conjuntos numéricos, operações de conjuntos, não ordenados...\n",
        "\n",
        "# Procura => Resposta\n",
        "# chave => valor\n",
        "# cat => gato\n",
        "# dog => cachorro\n",
        "# apple => maça\n",
        "# while => enquanto\n",
        "\n",
        "# É composto por chaves e valores"
      ],
      "execution_count": null,
      "outputs": []
    },
    {
      "cell_type": "code",
      "metadata": {
        "id": "Qs7mtkaLVbD1",
        "colab": {
          "base_uri": "https://localhost:8080/"
        },
        "outputId": "474bf8b4-9185-429a-b3e6-acb44468023b"
      },
      "source": [
        "dict = {'dog':'cachorro' , # Não aceita repetições de chaves\n",
        "        'cat':'gato',\n",
        "        'dog':'ave' # Sobreescreve o valor atual da chave\n",
        "        }\n",
        "\n",
        "print(dict)\n",
        "print(type(dict))\n",
        "print(type({'dog':'cachorro'}))"
      ],
      "execution_count": null,
      "outputs": [
        {
          "output_type": "stream",
          "text": [
            "{'dog': 'ave', 'cat': 'gato'}\n",
            "<class 'dict'>\n",
            "<class 'dict'>\n"
          ],
          "name": "stdout"
        }
      ]
    },
    {
      "cell_type": "code",
      "metadata": {
        "id": "OcKkwTrb7Jm0"
      },
      "source": [
        "# Dicionario suporta varios itens\n",
        "# Chaves não podem ser repetidas\n",
        "# É mutável (alterável)"
      ],
      "execution_count": null,
      "outputs": []
    },
    {
      "cell_type": "code",
      "metadata": {
        "colab": {
          "base_uri": "https://localhost:8080/"
        },
        "id": "89qeHVNT7OSM",
        "outputId": "26c68f0f-1666-4727-fce4-1019d428d286"
      },
      "source": [
        "dict = {'dog':'cachorro' , # Não aceita repetições de chaves\n",
        "        'cat':'gato',\n",
        "        'bird':'ave' # Sobreescreve o valor atual da chave\n",
        "        }\n",
        "\n",
        "print(dict)"
      ],
      "execution_count": null,
      "outputs": [
        {
          "output_type": "stream",
          "text": [
            "{'dog': 'cachorro', 'cat': 'gato', 'bird': 'ave'}\n"
          ],
          "name": "stdout"
        }
      ]
    },
    {
      "cell_type": "markdown",
      "metadata": {
        "id": "o9V5IF3r7ZBH"
      },
      "source": [
        "**dicionario['chave']:** Procura pela chave e retorna o valor. Dá erro se não existir a chave  \n",
        "**dicionario.get('chave'):** Procura pela chave e retorna o valor. Não dá erro se não existir a chave"
      ]
    },
    {
      "cell_type": "code",
      "metadata": {
        "colab": {
          "base_uri": "https://localhost:8080/",
          "height": 34
        },
        "id": "EnmtCzAp7aPB",
        "outputId": "91cdf915-4b32-470b-fe72-3253419cb9aa"
      },
      "source": [
        "dict['dog'] # Não é acessível por índices, mas sim, por chaves"
      ],
      "execution_count": null,
      "outputs": [
        {
          "output_type": "execute_result",
          "data": {
            "application/vnd.google.colaboratory.intrinsic+json": {
              "type": "string"
            },
            "text/plain": [
              "'cachorro'"
            ]
          },
          "metadata": {
            "tags": []
          },
          "execution_count": 4
        }
      ]
    },
    {
      "cell_type": "code",
      "metadata": {
        "colab": {
          "base_uri": "https://localhost:8080/",
          "height": 34
        },
        "id": "HQCZHij97opV",
        "outputId": "e43993e9-39e1-408d-eaa4-e6893da52366"
      },
      "source": [
        "dict.get('dog')"
      ],
      "execution_count": null,
      "outputs": [
        {
          "output_type": "execute_result",
          "data": {
            "application/vnd.google.colaboratory.intrinsic+json": {
              "type": "string"
            },
            "text/plain": [
              "'cachorro'"
            ]
          },
          "metadata": {
            "tags": []
          },
          "execution_count": 5
        }
      ]
    },
    {
      "cell_type": "code",
      "metadata": {
        "colab": {
          "base_uri": "https://localhost:8080/",
          "height": 165
        },
        "id": "YGCwSeILeHQC",
        "outputId": "7979ca98-d851-4fba-b2d2-012873045d84"
      },
      "source": [
        "dict['cachorro'] # Retorna erro se não existir"
      ],
      "execution_count": null,
      "outputs": [
        {
          "output_type": "error",
          "ename": "TypeError",
          "evalue": "ignored",
          "traceback": [
            "\u001b[0;31m---------------------------------------------------------------------------\u001b[0m",
            "\u001b[0;31mTypeError\u001b[0m                                 Traceback (most recent call last)",
            "\u001b[0;32m<ipython-input-1-42f448f8a46f>\u001b[0m in \u001b[0;36m<module>\u001b[0;34m()\u001b[0m\n\u001b[0;32m----> 1\u001b[0;31m \u001b[0mdict\u001b[0m\u001b[0;34m[\u001b[0m\u001b[0;34m'cachorro'\u001b[0m\u001b[0;34m]\u001b[0m \u001b[0;31m# Retorna erro se não existir\u001b[0m\u001b[0;34m\u001b[0m\u001b[0;34m\u001b[0m\u001b[0m\n\u001b[0m",
            "\u001b[0;31mTypeError\u001b[0m: 'type' object is not subscriptable"
          ]
        }
      ]
    },
    {
      "cell_type": "code",
      "metadata": {
        "id": "DTi42PaduuEI"
      },
      "source": [
        "dict.get('cachorro') # Não da erro e não existir"
      ],
      "execution_count": null,
      "outputs": []
    },
    {
      "cell_type": "markdown",
      "metadata": {
        "id": "a_qZ-dQTu1P5"
      },
      "source": [
        "**Dicionários são mutáveis (alteráveis)**"
      ]
    },
    {
      "cell_type": "code",
      "metadata": {
        "colab": {
          "base_uri": "https://localhost:8080/"
        },
        "id": "Iqkc39Z5u42I",
        "outputId": "f7dda008-31f5-4f4a-ef34-5ee66e95c2b1"
      },
      "source": [
        "dict = {'dog':'cachorro', # Não aceita repetições de chaves\n",
        "        'cat':'gato',\n",
        "        'bird':'ave' # Sobreescreve o valor atual da chave\n",
        "        }\n",
        "\n",
        "print(dict)"
      ],
      "execution_count": null,
      "outputs": [
        {
          "output_type": "stream",
          "text": [
            "{'dog': 'cachorro', 'cat': 'gato', 'bird': 'ave'}\n"
          ],
          "name": "stdout"
        }
      ]
    },
    {
      "cell_type": "code",
      "metadata": {
        "colab": {
          "base_uri": "https://localhost:8080/"
        },
        "id": "6NNH6Benve6z",
        "outputId": "ea3c0369-b568-46d0-aa4a-6f11915e888e"
      },
      "source": [
        "dict ['dog'] = 'cachorro'\n",
        "\n",
        "print(dict)"
      ],
      "execution_count": null,
      "outputs": [
        {
          "output_type": "stream",
          "text": [
            "{'dog': 'cachorro', 'cat': 'gato', 'bird': 'ave'}\n"
          ],
          "name": "stdout"
        }
      ]
    },
    {
      "cell_type": "markdown",
      "metadata": {
        "id": "XwfN1qM6vu3b"
      },
      "source": [
        "**Embora recomendável, não necessariamente uma chave deva ser uma string**"
      ]
    },
    {
      "cell_type": "code",
      "metadata": {
        "colab": {
          "base_uri": "https://localhost:8080/"
        },
        "id": "YRIyF4KnvxHl",
        "outputId": "8660a8e0-9dbb-49aa-ce5c-5f63f66c9c03"
      },
      "source": [
        "dict = {'string_chave':1,'string_chave2':2.4,'string_chave3':'string'}\n",
        "\n",
        "print(dict)"
      ],
      "execution_count": null,
      "outputs": [
        {
          "output_type": "stream",
          "text": [
            "{'string_chave': 1, 'string_chave2': 2.4, 'string_chave3': 'string'}\n"
          ],
          "name": "stdout"
        }
      ]
    },
    {
      "cell_type": "code",
      "metadata": {
        "colab": {
          "base_uri": "https://localhost:8080/"
        },
        "id": "tFkz86guwZE3",
        "outputId": "9a90458e-dd07-4718-9d45-b5defa9ad87b"
      },
      "source": [
        "dict_num = {1:'um',2:'dois',3:'tres',4:'quatro',5:'cinco'}\n",
        "\n",
        "print(dict_num)"
      ],
      "execution_count": null,
      "outputs": [
        {
          "output_type": "stream",
          "text": [
            "{1: 'um', 2: 'dois', 3: 'tres', 4: 'quatro', 5: 'cinco'}\n"
          ],
          "name": "stdout"
        }
      ]
    },
    {
      "cell_type": "code",
      "metadata": {
        "colab": {
          "base_uri": "https://localhost:8080/",
          "height": 34
        },
        "id": "F1M3fY82xH74",
        "outputId": "7b9e8282-6903-4247-b811-f25e5b056e51"
      },
      "source": [
        "dict_num[1] # Embora se pareça com um indice, é uma CHAVE"
      ],
      "execution_count": null,
      "outputs": [
        {
          "output_type": "execute_result",
          "data": {
            "application/vnd.google.colaboratory.intrinsic+json": {
              "type": "string"
            },
            "text/plain": [
              "'um'"
            ]
          },
          "metadata": {
            "tags": []
          },
          "execution_count": 5
        }
      ]
    },
    {
      "cell_type": "code",
      "metadata": {
        "colab": {
          "base_uri": "https://localhost:8080/"
        },
        "id": "vr0P-i_txH4d",
        "outputId": "7f95226b-39de-4c90-845c-f67fa1fe90de"
      },
      "source": [
        "for i in range (1,6):\n",
        "  \n",
        "  print(dict_num[i])"
      ],
      "execution_count": null,
      "outputs": [
        {
          "output_type": "stream",
          "text": [
            "um\n",
            "dois\n",
            "tres\n",
            "quatro\n",
            "cinco\n"
          ],
          "name": "stdout"
        }
      ]
    },
    {
      "cell_type": "markdown",
      "metadata": {
        "id": "BK2SpVU3xtK5"
      },
      "source": [
        "## Realizando loop nos dicionários"
      ]
    },
    {
      "cell_type": "code",
      "metadata": {
        "colab": {
          "base_uri": "https://localhost:8080/"
        },
        "id": "mR8jtCVRxr2u",
        "outputId": "db658dc8-c40a-4dd4-99f9-d011ccd36ac5"
      },
      "source": [
        "dict = {'dog':'cachorro', # Não aceita repetições de chaves\n",
        "        'cat':'gato',\n",
        "        'bird':'ave' # Sobreescreve o valor atual da chave\n",
        "        }\n",
        "\n",
        "for chaves in dict: # Me retorna as chaves   \n",
        "    print(chaves)\n",
        "\n",
        "print('-'*25)\n",
        "\n",
        "for chave in dict:\n",
        "\n",
        "    print(dict[chave])  # Me retorna os valores das chaves"
      ],
      "execution_count": null,
      "outputs": [
        {
          "output_type": "stream",
          "text": [
            "dog\n",
            "cat\n",
            "bird\n",
            "-------------------------\n",
            "cachorro\n",
            "gato\n",
            "ave\n"
          ],
          "name": "stdout"
        }
      ]
    },
    {
      "cell_type": "code",
      "metadata": {
        "id": "djFme457zKz1",
        "colab": {
          "base_uri": "https://localhost:8080/"
        },
        "outputId": "0feb9484-3aaa-4f4d-baab-1f2b6f0e3083"
      },
      "source": [
        "dir()\n"
      ],
      "execution_count": null,
      "outputs": [
        {
          "output_type": "execute_result",
          "data": {
            "text/plain": [
              "['In',\n",
              " 'Out',\n",
              " '_',\n",
              " '__',\n",
              " '___',\n",
              " '__builtin__',\n",
              " '__builtins__',\n",
              " '__doc__',\n",
              " '__loader__',\n",
              " '__name__',\n",
              " '__package__',\n",
              " '__spec__',\n",
              " '_dh',\n",
              " '_i',\n",
              " '_i1',\n",
              " '_ih',\n",
              " '_ii',\n",
              " '_iii',\n",
              " '_oh',\n",
              " '_sh',\n",
              " 'exit',\n",
              " 'get_ipython',\n",
              " 'quit']"
            ]
          },
          "metadata": {
            "tags": []
          },
          "execution_count": 1
        }
      ]
    },
    {
      "cell_type": "code",
      "metadata": {
        "id": "lWoaIzrKzKre"
      },
      "source": [
        ""
      ],
      "execution_count": null,
      "outputs": []
    }
  ]
}